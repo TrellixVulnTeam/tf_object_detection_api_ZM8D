{
 "cells": [
  {
   "cell_type": "markdown",
   "metadata": {},
   "source": [
    "**PARTITION THE DATASET**  \n",
    "90:10  \n",
    "iterate through the test and train folder. get the images. compare against meta_df and then create TFRecords."
   ]
  },
  {
   "cell_type": "markdown",
   "metadata": {},
   "source": [
    "**TRAINING THE MODEL**  \n",
    "Before we begin training our model, let’s go and copy the TensorFlow/models/research/object_detection/model_main_tf2.py script and paste it straight into our training_demo folder."
   ]
  },
  {
   "cell_type": "markdown",
   "metadata": {},
   "source": [
    "**INSTALLATION OF TFOD**  \n",
    "\n",
    "**DOCKER**  \n",
    "1. change the default docker-root to something more spacious https://stackoverflow.com/a/50217666/7835192  \n",
    "\n",
    "**TENSORFLOW GPU INSTALL**  \n",
    "1. https://www.tensorflow.org/install/gpu  \n",
    "2. Install nvdia-docker support https://github.com/NVIDIA/nvidia-docker  \n",
    "3. TF-gpu docker image e.g docker run --gpus all -it tensorflow/tensorflow:latest-gpu bash\n",
    "\n",
    "**USING TF-OBJECT DETECTION API**  \n",
    "install ProtoBuff **see the readme** https://github.com/protocolbuffers/protobuf/releases/tag/v3.18.1  \n",
    "=> install cocoapi . see issue https://github.com/cocodataset/cocoapi/issues/172   \n",
    "=> install opencv  . see https://stackoverflow.com/questions/44852484/access-webcam-using-opencv-python-in-docker  => pip install opencv-contrib-python  \n",
    "how to object detect using docker:  https://github.com/lbeaucourt/Object-detection   \n",
    "~~create label map: https://tensorflow-object-detection-api-tutorial.readthedocs.io/en/latest/training.html#create-label-map~~   \n",
    "create TFRecords https://github.com/tensorflow/models/blob/master/research/object_detection/g3doc/using_your_own_dataset.md   \n",
    "create TFRecords https://tensorflow-object-detection-api-tutorial.readthedocs.io/en/latest/training.html#create-tensorflow-records  \n",
    "\n"
   ]
  },
  {
   "cell_type": "markdown",
   "metadata": {},
   "source": [
    "**ISSUES FACED**  \n",
    "(Evaluation) waiting for a new checkpoint https://stackoverflow.com/questions/64510791/tf2-object-detection-api-model-main-tf2-py-validation-loss  \n",
    "Run training in a terminal and evaluation in a NEW Terminal!!  \n",
    "\n"
   ]
  },
  {
   "cell_type": "code",
   "execution_count": null,
   "metadata": {},
   "outputs": [],
   "source": []
  }
 ],
 "metadata": {
  "kernelspec": {
   "display_name": "Python 3.8.10 64-bit",
   "name": "python3810jvsc74a57bd031f2aee4e71d21fbe5cf8b01ff0e069b9275f58929596ceb00d14d90e3e16cd6"
  },
  "language_info": {
   "name": "python",
   "version": ""
  },
  "metadata": {
   "interpreter": {
    "hash": "31f2aee4e71d21fbe5cf8b01ff0e069b9275f58929596ceb00d14d90e3e16cd6"
   }
  }
 },
 "nbformat": 4,
 "nbformat_minor": 5
}